{
 "cells": [
  {
   "cell_type": "code",
   "execution_count": 1,
   "metadata": {},
   "outputs": [],
   "source": [
    "%load_ext autoreload\n",
    "%autoreload 2\n"
   ]
  },
  {
   "cell_type": "code",
   "execution_count": 2,
   "metadata": {},
   "outputs": [
    {
     "name": "stdout",
     "output_type": "stream",
     "text": [
      "(array([0, 0, 1, 1, 2, 2]), array([0, 2, 0, 2, 0, 2]))\n",
      "['apple' 'apple' 'apple' 'apple' 'apple' 'apple']\n"
     ]
    }
   ],
   "source": [
    "import numpy as np\n",
    "import wimpy\n",
    "a = np.array(['apple', 'orange', 'apple', 'banana'])\n",
    "a = np.array([a, a, a])\n",
    "arr_index = np.where(a == 'apple')\n",
    "print(arr_index)\n",
    "print(a[arr_index])"
   ]
  },
  {
   "cell_type": "code",
   "execution_count": 3,
   "metadata": {},
   "outputs": [
    {
     "data": {
      "text/plain": [
       "array([['123', '234'],\n",
       "       ['123', '234']], dtype='<U3')"
      ]
     },
     "execution_count": 3,
     "metadata": {},
     "output_type": "execute_result"
    }
   ],
   "source": [
    "x = np.array(['123', '234'])\n",
    "np.array([x, x])"
   ]
  },
  {
   "cell_type": "code",
   "execution_count": 4,
   "metadata": {},
   "outputs": [
    {
     "data": {
      "text/plain": [
       "array([['apple', 'orange', 'apple', 'banana'],\n",
       "       ['apple', 'orange', 'apple', 'banana'],\n",
       "       ['apple', 'orange', 'apple', 'banana']], dtype='<U6')"
      ]
     },
     "execution_count": 4,
     "metadata": {},
     "output_type": "execute_result"
    }
   ],
   "source": [
    "a"
   ]
  },
  {
   "cell_type": "code",
   "execution_count": 10,
   "metadata": {},
   "outputs": [
    {
     "name": "stdout",
     "output_type": "stream",
     "text": [
      "['ATG' 'TGC' 'GCA' 'CAA' 'AAA']\n",
      "[['ATG' 'TGC' 'GCA' 'CAA' 'AAA' 'AAA']\n",
      " ['TAG' 'AGC' 'GCA' 'CAT' 'ATG' 'TGA']]\n"
     ]
    },
    {
     "data": {
      "text/plain": [
       "[[array([0]), array([1]), array([2]), array([3]), array([4, 5])],\n",
       " [array([4]),\n",
       "  array([], dtype=int64),\n",
       "  array([2]),\n",
       "  array([], dtype=int64),\n",
       "  array([], dtype=int64)]]"
      ]
     },
     "execution_count": 10,
     "metadata": {},
     "output_type": "execute_result"
    }
   ],
   "source": [
    "seqs = ['ATGCAAAA', 'TAGCATGA']\n",
    "ref = 'ATGCAAA'\n",
    "indices = wimpy.tilepin_v2(seqs, ref, tile_len=3)\n",
    "indices\n"
   ]
  },
  {
   "cell_type": "code",
   "execution_count": 25,
   "metadata": {},
   "outputs": [
    {
     "data": {
      "text/plain": [
       "(array([1, 2, 3]), array([0, 1, 2, 0, 1]))"
      ]
     },
     "execution_count": 25,
     "metadata": {},
     "output_type": "execute_result"
    }
   ],
   "source": [
    "np.unique([1, 2, 3, 1, 2], return_inverse=True)"
   ]
  },
  {
   "cell_type": "code",
   "execution_count": 12,
   "metadata": {},
   "outputs": [
    {
     "data": {
      "text/plain": [
       "array([1., 2., 3.])"
      ]
     },
     "execution_count": 12,
     "metadata": {},
     "output_type": "execute_result"
    }
   ],
   "source": [
    "np.concatenate([[1, 2], [], [3]])"
   ]
  },
  {
   "cell_type": "code",
   "execution_count": 14,
   "metadata": {},
   "outputs": [
    {
     "data": {
      "text/plain": [
       "{1: 0, 2: 1, 3: 3}"
      ]
     },
     "execution_count": 14,
     "metadata": {},
     "output_type": "execute_result"
    }
   ],
   "source": [
    "a = [1, 2, 3, 3]\n",
    "d = {a: i for i, a in enumerate(a)}\n",
    "d"
   ]
  },
  {
   "cell_type": "code",
   "execution_count": null,
   "metadata": {},
   "outputs": [],
   "source": []
  }
 ],
 "metadata": {
  "kernelspec": {
   "display_name": "data-analysis",
   "language": "python",
   "name": "python3"
  },
  "language_info": {
   "codemirror_mode": {
    "name": "ipython",
    "version": 3
   },
   "file_extension": ".py",
   "mimetype": "text/x-python",
   "name": "python",
   "nbconvert_exporter": "python",
   "pygments_lexer": "ipython3",
   "version": "3.11.9"
  }
 },
 "nbformat": 4,
 "nbformat_minor": 2
}
