{
 "cells": [
  {
   "cell_type": "code",
   "execution_count": 1,
   "metadata": {},
   "outputs": [
    {
     "name": "stderr",
     "output_type": "stream",
     "text": [
      "[d3blocks] >INFO> Cleaning edge_properties and config parameters..\n",
      "[datazets] >INFO> Import dataset [energy]\n",
      "[d3blocks] >INFO> Import dataset [energy]\n",
      "[datazets] >INFO> Downloading [energy.zip] dataset from github source..\n",
      "[d3blocks] >INFO> Downloading [energy.zip] dataset from github source..\n"
     ]
    },
    {
     "data": {
      "text/html": [
       "<div>\n",
       "<style scoped>\n",
       "    .dataframe tbody tr th:only-of-type {\n",
       "        vertical-align: middle;\n",
       "    }\n",
       "\n",
       "    .dataframe tbody tr th {\n",
       "        vertical-align: top;\n",
       "    }\n",
       "\n",
       "    .dataframe thead th {\n",
       "        text-align: right;\n",
       "    }\n",
       "</style>\n",
       "<table border=\"1\" class=\"dataframe\">\n",
       "  <thead>\n",
       "    <tr style=\"text-align: right;\">\n",
       "      <th></th>\n",
       "      <th>source</th>\n",
       "      <th>target</th>\n",
       "      <th>weight</th>\n",
       "    </tr>\n",
       "  </thead>\n",
       "  <tbody>\n",
       "    <tr>\n",
       "      <th>0</th>\n",
       "      <td>Agricultural 'waste'</td>\n",
       "      <td>Bio-conversion</td>\n",
       "      <td>124.729</td>\n",
       "    </tr>\n",
       "    <tr>\n",
       "      <th>1</th>\n",
       "      <td>Bio-conversion</td>\n",
       "      <td>Liquid</td>\n",
       "      <td>0.597</td>\n",
       "    </tr>\n",
       "    <tr>\n",
       "      <th>2</th>\n",
       "      <td>Bio-conversion</td>\n",
       "      <td>Losses</td>\n",
       "      <td>26.862</td>\n",
       "    </tr>\n",
       "    <tr>\n",
       "      <th>3</th>\n",
       "      <td>Bio-conversion</td>\n",
       "      <td>Solid</td>\n",
       "      <td>280.322</td>\n",
       "    </tr>\n",
       "    <tr>\n",
       "      <th>4</th>\n",
       "      <td>Bio-conversion</td>\n",
       "      <td>Gas</td>\n",
       "      <td>81.144</td>\n",
       "    </tr>\n",
       "    <tr>\n",
       "      <th>...</th>\n",
       "      <td>...</td>\n",
       "      <td>...</td>\n",
       "      <td>...</td>\n",
       "    </tr>\n",
       "    <tr>\n",
       "      <th>63</th>\n",
       "      <td>Thermal generation</td>\n",
       "      <td>District heating</td>\n",
       "      <td>79.329</td>\n",
       "    </tr>\n",
       "    <tr>\n",
       "      <th>64</th>\n",
       "      <td>Tidal</td>\n",
       "      <td>Electricity grid</td>\n",
       "      <td>9.452</td>\n",
       "    </tr>\n",
       "    <tr>\n",
       "      <th>65</th>\n",
       "      <td>UK land based bioenergy</td>\n",
       "      <td>Bio-conversion</td>\n",
       "      <td>182.010</td>\n",
       "    </tr>\n",
       "    <tr>\n",
       "      <th>66</th>\n",
       "      <td>Wave</td>\n",
       "      <td>Electricity grid</td>\n",
       "      <td>19.013</td>\n",
       "    </tr>\n",
       "    <tr>\n",
       "      <th>67</th>\n",
       "      <td>Wind</td>\n",
       "      <td>Electricity grid</td>\n",
       "      <td>289.366</td>\n",
       "    </tr>\n",
       "  </tbody>\n",
       "</table>\n",
       "<p>68 rows × 3 columns</p>\n",
       "</div>"
      ],
      "text/plain": [
       "                     source            target   weight\n",
       "0      Agricultural 'waste'    Bio-conversion  124.729\n",
       "1            Bio-conversion            Liquid    0.597\n",
       "2            Bio-conversion            Losses   26.862\n",
       "3            Bio-conversion             Solid  280.322\n",
       "4            Bio-conversion               Gas   81.144\n",
       "..                      ...               ...      ...\n",
       "63       Thermal generation  District heating   79.329\n",
       "64                    Tidal  Electricity grid    9.452\n",
       "65  UK land based bioenergy    Bio-conversion  182.010\n",
       "66                     Wave  Electricity grid   19.013\n",
       "67                     Wind  Electricity grid  289.366\n",
       "\n",
       "[68 rows x 3 columns]"
      ]
     },
     "execution_count": 1,
     "metadata": {},
     "output_type": "execute_result"
    }
   ],
   "source": [
    "# Load d3blocks\n",
    "from d3blocks import D3Blocks\n",
    "\n",
    "# Initialize\n",
    "d3 = D3Blocks()\n",
    "\n",
    "# Load example data\n",
    "df = d3.import_example('energy')\n",
    "\n",
    "df"
   ]
  },
  {
   "cell_type": "code",
   "execution_count": 2,
   "metadata": {},
   "outputs": [
    {
     "name": "stderr",
     "output_type": "stream",
     "text": [
      "[d3blocks] >INFO> Cleaning edge_properties and config parameters..\n",
      "[d3blocks] >INFO> Initializing [Chord]\n",
      "[d3blocks] >INFO> Create directory: [/var/folders/_3/fn7zmzc10j3g4t9s9004ffyc0000gn/T/d3blocks]\n",
      "[d3blocks] >INFO> filepath is set to [/var/folders/_3/fn7zmzc10j3g4t9s9004ffyc0000gn/T/d3blocks/chord.html]\n",
      "[d3blocks] >INFO> Convert to DataFrame.\n",
      "[d3blocks] >INFO> Node properties are set.\n",
      "[d3blocks] >INFO> Set edge-opacity based on the [source] node-opacity.\n",
      "[d3blocks] >INFO> Set edge-colors based on the [source] node-color.\n",
      "[d3blocks] >INFO> Edge properties are set.\n",
      "[d3blocks] >INFO> File not found: [file:////var/folders/_3/fn7zmzc10j3g4t9s9004ffyc0000gn/T/d3blocks/chord.html]\n",
      "[d3blocks] >INFO> Open browser: file:////var/folders/_3/fn7zmzc10j3g4t9s9004ffyc0000gn/T/d3blocks/chord.html\n"
     ]
    }
   ],
   "source": [
    "# Plot\n",
    "d3.chord(df)"
   ]
  }
 ],
 "metadata": {
  "kernelspec": {
   "display_name": "data-analysis",
   "language": "python",
   "name": "python3"
  },
  "language_info": {
   "codemirror_mode": {
    "name": "ipython",
    "version": 3
   },
   "file_extension": ".py",
   "mimetype": "text/x-python",
   "name": "python",
   "nbconvert_exporter": "python",
   "pygments_lexer": "ipython3",
   "version": "3.11.9"
  }
 },
 "nbformat": 4,
 "nbformat_minor": 2
}
