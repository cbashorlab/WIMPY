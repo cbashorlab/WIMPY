{
 "cells": [
  {
   "cell_type": "markdown",
   "metadata": {},
   "source": [
    "## Analysing A subset of data from Experiment 68 (166K-member Level 3 library)\n",
    "\n",
    "- Python version\n"
   ]
  },
  {
   "cell_type": "code",
   "execution_count": 1,
   "metadata": {},
   "outputs": [],
   "source": [
    "from Bio import Align\n",
    "from Bio.Seq import Seq\n",
    "from Bio import SeqIO\n",
    "from Bio.SeqRecord import SeqRecord\n",
    "from os import path\n",
    "from tqdm import tqdm\n",
    "from itertools import product\n",
    "import re\n",
    "import pandas as pd\n",
    "import numpy as np\n",
    "import matplotlib.pyplot as plt\n",
    "import wimpy as wp\n",
    "\n",
    "%load_ext autoreload\n",
    "%autoreload 2\n"
   ]
  },
  {
   "cell_type": "markdown",
   "metadata": {},
   "source": [
    "### Loading input data\n",
    "\n",
    "Reference sequences"
   ]
  },
  {
   "cell_type": "code",
   "execution_count": 2,
   "metadata": {},
   "outputs": [],
   "source": [
    "# reference sequences from input fasta file\n",
    "with open(r\"./info/ref_sequences.fasta\") as ref_fasta_file:\n",
    "    ref_seqs = {\n",
    "        record.id: str(record.seq) for record in SeqIO.parse(ref_fasta_file, \"fasta\")\n",
    "    }\n",
    "    \n",
    "Puro = ref_seqs['Puro']\n",
    "GFP = ref_seqs['GFP']\n",
    "A4 = ref_seqs['A4'][-50:]\n",
    "minP = ref_seqs['minP']\n",
    "mRuby = ref_seqs['mRuby'][200:300]\n",
    "BFP = ref_seqs['BFP'][200:300]\n",
    "ZF_parts = [ref_seqs['WT'], ref_seqs['C1_WT'], ref_seqs['C1_6x']]\n",
    "\n",
    "# reference sequences from excel files\n",
    "minP_100k = pd.read_excel(r'./info/100k_Minimal-Promoters.xlsx')['Sequence'].to_list()\n",
    "terminators_100k = pd.read_excel(r'./info/100k_terminators.xlsx')['Sequence'].to_list()\n",
    "promoters_100k = pd.read_excel(r'./info/100k-Promoters.xlsx')['Sequence'].to_list()\n",
    "AD_parts = pd.read_excel(r'./info/100k_ORF-Parts_SynTF.xlsx').loc[0:3, 'SEQUENCE'].to_list()\n"
   ]
  },
  {
   "cell_type": "markdown",
   "metadata": {},
   "source": [
    "Loading input Nanopore sequencing files, initial aliment with `bowtile`, and filter based on read length"
   ]
  },
  {
   "cell_type": "code",
   "execution_count": 3,
   "metadata": {},
   "outputs": [
    {
     "name": "stderr",
     "output_type": "stream",
     "text": [
      "reading fastq files: 100%|██████████| 5/5 [00:08<00:00,  1.64s/it]\n"
     ]
    }
   ],
   "source": [
    "# load in data\n",
    "_, l, seqs = wp.fastqall('./fastq/')\n",
    "l, seqs = np.array(l), np.array(seqs)\n",
    "\n",
    "# filter based on read length\n",
    "seqs = seqs[(l > 9500) & (l < 15000)]\n",
    "l = l[(l > 9500) & (l < 15000)]\n"
   ]
  },
  {
   "cell_type": "code",
   "execution_count": 4,
   "metadata": {},
   "outputs": [
    {
     "name": "stderr",
     "output_type": "stream",
     "text": [
      "bowtile progress: 100%|██████████| 11063/11063 [01:12<00:00, 153.03it/s]\n"
     ]
    }
   ],
   "source": [
    "# bowtile for alignment\n",
    "new_seq, _, _ = wp.bowtile(seqs, Puro, thresh=0.03)\n",
    "new_seq = np.array(new_seq)\n",
    "\n",
    "# filter out failed attempts\n",
    "reads_correct = new_seq[new_seq != '']\n",
    "l_reads_correct = l[new_seq != '']"
   ]
  },
  {
   "cell_type": "markdown",
   "metadata": {},
   "source": [
    "### Reporter Identification\n",
    "\n",
    "Locate A4, GFP, and Minimal Promoter region via TILING"
   ]
  },
  {
   "cell_type": "code",
   "execution_count": 5,
   "metadata": {},
   "outputs": [
    {
     "name": "stderr",
     "output_type": "stream",
     "text": [
      "match sequences to reference: 100%|██████████| 11025/11025 [00:16<00:00, 681.04it/s]\n",
      "match sequences to reference: 100%|██████████| 11025/11025 [00:14<00:00, 774.15it/s]\n",
      "match sequences to reference: 100%|██████████| 11025/11025 [00:14<00:00, 739.23it/s]\n",
      "match sequences to reference: 100%|██████████| 11025/11025 [00:15<00:00, 718.32it/s]\n",
      "match sequences to reference: 100%|██████████| 11025/11025 [00:14<00:00, 756.25it/s]\n"
     ]
    }
   ],
   "source": [
    "_, positions_GFP, _ = wp.tilepin_v2(reads_correct, GFP, thresh=0.03, verbose=True)\n",
    "_, positions_mRuby, _ = wp.tilepin_v2(reads_correct, mRuby, thresh=0.03, verbose=True)\n",
    "_, positions_A4, _ = wp.tilepin_v2(reads_correct, A4, thresh=0.03, verbose=True)\n",
    "_, positions_minP, _ = wp.tilepin_v2(reads_correct, minP, thresh=0.03, verbose=True)\n",
    "_, positions_BFP, _ = wp.tilepin_v2(reads_correct, BFP, thresh=0.03, verbose=True)"
   ]
  },
  {
   "cell_type": "markdown",
   "metadata": {},
   "source": [
    "Assessing reporter diversity"
   ]
  },
  {
   "cell_type": "code",
   "execution_count": 28,
   "metadata": {},
   "outputs": [],
   "source": [
    "# pregions and tregions using chophat\n",
    "p_regions = wp.chophat(reads_correct, positions_A4, end_positions=positions_GFP)\n",
    "t_regions = wp.chophat(reads_correct, positions_GFP, max_length=2000)\n"
   ]
  },
  {
   "cell_type": "markdown",
   "metadata": {},
   "source": [
    "Assign minimal promoters"
   ]
  },
  {
   "cell_type": "code",
   "execution_count": 34,
   "metadata": {},
   "outputs": [
    {
     "name": "stderr",
     "output_type": "stream",
     "text": [
      "matching to reference sequences: 100%|██████████| 3/3 [00:02<00:00,  1.49it/s]\n"
     ]
    }
   ],
   "source": [
    "thresh = 0.2\n",
    "minP_variants, minP_variants_counts, minPconf = wp.viscount(p_regions, minP_100k, thresh, tile_len=6)\n",
    "minP_assignment = np.argmax(minP_variants, axis=1)\n",
    "minP_assignment[np.sum(minP_variants, axis=1) < thresh] = -1"
   ]
  },
  {
   "cell_type": "markdown",
   "metadata": {},
   "source": [
    "Assign number of binding sites based on the length of sequence"
   ]
  },
  {
   "cell_type": "code",
   "execution_count": 35,
   "metadata": {},
   "outputs": [],
   "source": [
    "bs_assignment = np.zeros(len(reads_correct)) - 1\n",
    "dist = positions_minP - positions_A4\n",
    "bs_assignment[(dist > 0) & (dist < 160)] = 0 # 2 binding sites\n",
    "bs_assignment[(dist > 160) & (dist < 255)] = 1 # 4 binding sites\n",
    "bs_assignment[(dist > 255) & (dist < 415)] = 2 # 8 binding sites\n",
    "bs_assignment[(dist > 415) & (dist < 555)] = 3 # 12 binding sites\n"
   ]
  },
  {
   "cell_type": "markdown",
   "metadata": {},
   "source": [
    "Assign terminators"
   ]
  },
  {
   "cell_type": "code",
   "execution_count": 33,
   "metadata": {},
   "outputs": [
    {
     "name": "stderr",
     "output_type": "stream",
     "text": [
      "matching to reference sequences: 100%|██████████| 12/12 [03:47<00:00, 18.93s/it]\n"
     ]
    }
   ],
   "source": [
    "_, term_variants_counts = wp.viscount(t_regions, terminators_100k, 0.2, return_confusion_matrix=False)\n",
    "\n",
    "# custom scaling of terminators\n",
    "term_variants_counts[:, 1] -= term_variants_counts[:, 0] * 1.5\n",
    "term_variants_counts[:, 2] -= term_variants_counts[:, 1]\n",
    "term_variants_counts[term_variants_counts < 10] = 0\n",
    "\n",
    "term_assignment = np.argmax(term_variants_counts, axis=1)\n",
    "term_assignment[np.sum(term_variants_counts, axis=1) < 1] = -1\n"
   ]
  },
  {
   "cell_type": "markdown",
   "metadata": {},
   "source": [
    "Combine assignment for the reporter"
   ]
  },
  {
   "cell_type": "code",
   "execution_count": 39,
   "metadata": {},
   "outputs": [],
   "source": [
    "reporter_assignment = np.stack([bs_assignment, minP_assignment, term_assignment]).T"
   ]
  },
  {
   "cell_type": "markdown",
   "metadata": {},
   "source": [
    "### SynTF Identification\n",
    "\n",
    "Promoters"
   ]
  },
  {
   "cell_type": "code",
   "execution_count": 41,
   "metadata": {},
   "outputs": [],
   "source": [
    "pregions_synTF = wp.chophat(reads_correct, np.zeros_like(positions_minP), positions_minP)\n",
    "synTF_prom_variants, _, synTF_prom_conf = wp.viscount(pregions_synTF, promoters_100k, thresh=0.03)\n",
    "synTF_prom_assignment = np.argmax(synTF_prom_variants, axis=1)\n",
    "synTF_prom_assignment[np.sum(synTF_prom_assignment, axis=1) < 0.03] = -1"
   ]
  },
  {
   "cell_type": "markdown",
   "metadata": {},
   "source": [
    "ORF parts"
   ]
  },
  {
   "cell_type": "code",
   "execution_count": null,
   "metadata": {},
   "outputs": [],
   "source": [
    "f0, _, p0 = wp.tilepin_v2(pregions_synTF, AD_parts[0], thersh=1)\n",
    "f1, _, p1 = wp.tilepin_v2(pregions_synTF, AD_parts[1], thersh=1)\n",
    "f2, _, p2 = wp.tilepin_v2(pregions_synTF, AD_parts[2], thersh=1)\n",
    "f3, _, p3 = wp.tilepin_v2(pregions_synTF, AD_parts[3], thersh=1)\n"
   ]
  },
  {
   "cell_type": "markdown",
   "metadata": {},
   "source": [
    "Match mRuby index to AD indices"
   ]
  },
  {
   "cell_type": "code",
   "execution_count": null,
   "metadata": {},
   "outputs": [],
   "source": []
  },
  {
   "cell_type": "markdown",
   "metadata": {},
   "source": [
    "-------------------------\n",
    "\n",
    "**Performance comparision** (benchmark machine: Apple M1 Macbook Air):\n",
    "- MatLab version of `tilepin()`\n",
    "  - 15 s for the last 100 bp of GFP reference sequence\n",
    "  - 2 min for whole GFP reference sequence\n",
    "- `wp.tilepin()`\n",
    "  - 15 s for the last 100 bp of GFP reference sequence\n",
    "  - 6 min for whole GFP reference sequence\n",
    "- `wp.tilepin_v2()`\n",
    "  - 15 s for the last 100 bp of GFP reference sequence\n",
    "  - 18 s for whole GFP reference sequence\n"
   ]
  },
  {
   "cell_type": "code",
   "execution_count": null,
   "metadata": {},
   "outputs": [],
   "source": [
    "_, positionsGFP1, _ = wp.tilepin(reads_correct, GFP, thresh=0.03, verbose=True)\n",
    "_, positionsGFP2, _ = wp.tilepin_v2(reads_correct, GFP, thresh=0.03, verbose=True)\n",
    "plt.figure()\n",
    "plt.hist(positionsGFP1 - positionsGFP2, bins=np.arange(-50, 50), cumulative=True)\n",
    "plt.show()\n"
   ]
  },
  {
   "cell_type": "code",
   "execution_count": null,
   "metadata": {},
   "outputs": [],
   "source": []
  }
 ],
 "metadata": {
  "kernelspec": {
   "display_name": "data-analysis",
   "language": "python",
   "name": "python3"
  },
  "language_info": {
   "codemirror_mode": {
    "name": "ipython",
    "version": 3
   },
   "file_extension": ".py",
   "mimetype": "text/x-python",
   "name": "python",
   "nbconvert_exporter": "python",
   "pygments_lexer": "ipython3",
   "version": "3.11.9"
  }
 },
 "nbformat": 4,
 "nbformat_minor": 2
}
