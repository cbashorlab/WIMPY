{
 "cells": [
  {
   "cell_type": "markdown",
   "metadata": {},
   "source": [
    "## Analysing A subset of data from Experiment 68 (166K-member Level 3 library)\n",
    "\n",
    "- Python version\n"
   ]
  },
  {
   "cell_type": "code",
   "execution_count": 17,
   "metadata": {},
   "outputs": [
    {
     "name": "stdout",
     "output_type": "stream",
     "text": [
      "The autoreload extension is already loaded. To reload it, use:\n",
      "  %reload_ext autoreload\n"
     ]
    }
   ],
   "source": [
    "from Bio import SeqIO\n",
    "import pandas as pd\n",
    "import numpy as np\n",
    "import matplotlib.pyplot as plt\n",
    "import wimpy as wp\n",
    "\n",
    "%load_ext autoreload\n",
    "%autoreload 2\n"
   ]
  },
  {
   "cell_type": "markdown",
   "metadata": {},
   "source": [
    "### Loading input data\n",
    "\n",
    "Reference sequences"
   ]
  },
  {
   "cell_type": "code",
   "execution_count": 24,
   "metadata": {},
   "outputs": [],
   "source": [
    "# reference sequences from input fasta file\n",
    "with open(r\"./info/ref_sequences.fasta\") as ref_fasta_file:\n",
    "    ref_seqs = {\n",
    "        record.id: str(record.seq) for record in SeqIO.parse(ref_fasta_file, \"fasta\")\n",
    "    }\n",
    "    \n",
    "Puro = ref_seqs['Puro']\n",
    "GFP = ref_seqs['GFP'][-100:]\n",
    "A4 = ref_seqs['A4'][-50:]\n",
    "minP = ref_seqs['minP']\n",
    "mRuby = ref_seqs['mRuby'][200:300]\n",
    "BFP = ref_seqs['BFP'][200:300]\n",
    "ZF_parts = [ref_seqs['WT'], ref_seqs['C1_WT'], ref_seqs['C1_6x']]\n",
    "\n",
    "# reference sequences from excel files\n",
    "minP_100k = pd.read_excel(r'./info/100k_Minimal-Promoters.xlsx')['Sequence'].to_list()\n",
    "terminators_100k = pd.read_excel(r'./info/100k_terminators.xlsx')['Sequence'].to_list()\n",
    "promoters_100k = pd.read_excel(r'./info/100k-Promoters.xlsx')['Sequence'].to_list()\n",
    "AD_parts = pd.read_excel(r'./info/100k_ORF-Parts_SynTF.xlsx').loc[0:3, 'SEQUENCE'].to_list()\n"
   ]
  },
  {
   "cell_type": "markdown",
   "metadata": {},
   "source": [
    "Loading input Nanopore sequencing files, initial aliment with `bowtile`, and filter based on read length"
   ]
  },
  {
   "cell_type": "code",
   "execution_count": 19,
   "metadata": {},
   "outputs": [
    {
     "name": "stderr",
     "output_type": "stream",
     "text": [
      "reading fastq files: 100%|██████████| 5/5 [00:13<00:00,  2.62s/it]\n"
     ]
    }
   ],
   "source": [
    "# load in data\n",
    "_, l, seqs = wp.fastqall('./fastq/')\n",
    "l, seqs = np.array(l), np.array(seqs)\n",
    "\n",
    "# filter based on read length\n",
    "seqs = seqs[(l > 9500) & (l < 15000)]\n",
    "l = l[(l > 9500) & (l < 15000)]\n"
   ]
  },
  {
   "cell_type": "code",
   "execution_count": 20,
   "metadata": {},
   "outputs": [
    {
     "name": "stderr",
     "output_type": "stream",
     "text": [
      "bowtile progress: 100%|██████████| 11063/11063 [01:06<00:00, 166.13it/s]\n"
     ]
    }
   ],
   "source": [
    "# bowtile for alignment\n",
    "new_seq, _, _ = wp.bowtile(seqs, Puro, thresh=0.03)\n",
    "new_seq = np.array(new_seq)\n",
    "\n",
    "# filter out failed attempts\n",
    "reads_correct = new_seq[new_seq != '']\n",
    "l_reads_correct = l[new_seq != '']"
   ]
  },
  {
   "cell_type": "markdown",
   "metadata": {},
   "source": [
    "### Reporter Identification\n",
    "\n",
    "Locate A4, GFP, and Minimal Promoter region via TILING"
   ]
  },
  {
   "cell_type": "code",
   "execution_count": 25,
   "metadata": {},
   "outputs": [
    {
     "name": "stderr",
     "output_type": "stream",
     "text": [
      "match sequences to reference: 100%|██████████| 11025/11025 [00:15<00:00, 727.72it/s]\n",
      "match sequences to reference: 100%|██████████| 11025/11025 [00:14<00:00, 776.69it/s]\n",
      "match sequences to reference: 100%|██████████| 11025/11025 [00:14<00:00, 763.07it/s]\n",
      "match sequences to reference: 100%|██████████| 11025/11025 [00:14<00:00, 783.17it/s]\n",
      "match sequences to reference: 100%|██████████| 11025/11025 [00:14<00:00, 749.25it/s]\n"
     ]
    }
   ],
   "source": [
    "_, positions_GFP, _ = wp.tilepin_v2(reads_correct, GFP, thresh=0.03, verbose=True)\n",
    "_, positions_mRuby, _ = wp.tilepin_v2(reads_correct, mRuby, thresh=0.03, verbose=True)\n",
    "_, positions_A4, _ = wp.tilepin_v2(reads_correct, A4, thresh=0.03, verbose=True)\n",
    "_, positions_minP, _ = wp.tilepin_v2(reads_correct, minP, thresh=0.03, verbose=True)\n",
    "_, positions_BFP, _ = wp.tilepin_v2(reads_correct, BFP, thresh=0.03, verbose=True)"
   ]
  },
  {
   "cell_type": "markdown",
   "metadata": {},
   "source": [
    "Assessing reporter diversity"
   ]
  },
  {
   "cell_type": "code",
   "execution_count": 26,
   "metadata": {},
   "outputs": [],
   "source": [
    "# pregions and tregions using chophat\n",
    "p_regions = wp.chophat(reads_correct, positions_A4, end_positions=positions_GFP)\n",
    "t_regions = wp.chophat(reads_correct, positions_GFP, max_length=2000)\n"
   ]
  },
  {
   "cell_type": "markdown",
   "metadata": {},
   "source": [
    "Assign minimal promoters"
   ]
  },
  {
   "cell_type": "code",
   "execution_count": 27,
   "metadata": {},
   "outputs": [
    {
     "name": "stderr",
     "output_type": "stream",
     "text": [
      "matching to reference sequences: 100%|██████████| 3/3 [00:02<00:00,  1.09it/s]\n"
     ]
    }
   ],
   "source": [
    "thresh = 0.2\n",
    "minP_variants, minP_variants_counts, minPconf = wp.viscount(p_regions, minP_100k, thresh, tile_len=6, verbose=True)\n",
    "minP_assignment = np.argmax(minP_variants, axis=1)\n",
    "minP_assignment[np.sum(minP_variants, axis=1) < thresh] = -1"
   ]
  },
  {
   "cell_type": "markdown",
   "metadata": {},
   "source": [
    "Assign number of binding sites based on the length of sequence"
   ]
  },
  {
   "cell_type": "code",
   "execution_count": 28,
   "metadata": {},
   "outputs": [],
   "source": [
    "bs_assignment = np.zeros(len(reads_correct)) - 1\n",
    "dist = positions_minP - positions_A4\n",
    "bs_assignment[(dist > 0) & (dist < 160)] = 0 # 2 binding sites\n",
    "bs_assignment[(dist > 160) & (dist < 255)] = 1 # 4 binding sites\n",
    "bs_assignment[(dist > 255) & (dist < 415)] = 2 # 8 binding sites\n",
    "bs_assignment[(dist > 415) & (dist < 555)] = 3 # 12 binding sites\n"
   ]
  },
  {
   "cell_type": "markdown",
   "metadata": {},
   "source": [
    "Assign terminators"
   ]
  },
  {
   "cell_type": "code",
   "execution_count": 29,
   "metadata": {},
   "outputs": [
    {
     "name": "stderr",
     "output_type": "stream",
     "text": [
      "matching to reference sequences: 100%|██████████| 12/12 [03:34<00:00, 17.90s/it]\n"
     ]
    }
   ],
   "source": [
    "_, term_variants_counts = wp.viscount(t_regions, terminators_100k, 0.2, return_confusion_matrix=False, verbose=True)\n",
    "\n",
    "# custom scaling of terminators\n",
    "term_variants_counts[:, 1] -= term_variants_counts[:, 0] * 1.5\n",
    "term_variants_counts[:, 2] -= term_variants_counts[:, 1]\n",
    "term_variants_counts[term_variants_counts < 10] = 0\n",
    "\n",
    "term_assignment = np.argmax(term_variants_counts, axis=1)\n",
    "term_assignment[np.sum(term_variants_counts, axis=1) < 1] = -1\n"
   ]
  },
  {
   "cell_type": "markdown",
   "metadata": {},
   "source": [
    "Combine assignment for the reporter"
   ]
  },
  {
   "cell_type": "code",
   "execution_count": 33,
   "metadata": {},
   "outputs": [],
   "source": [
    "reporter_assignment = np.stack([bs_assignment, minP_assignment, term_assignment]).T"
   ]
  },
  {
   "cell_type": "markdown",
   "metadata": {},
   "source": [
    "### SynTF Identification\n",
    "\n",
    "Promoters"
   ]
  },
  {
   "cell_type": "code",
   "execution_count": 50,
   "metadata": {},
   "outputs": [
    {
     "name": "stderr",
     "output_type": "stream",
     "text": [
      "matching to reference sequences: 100%|██████████| 4/4 [04:17<00:00, 64.39s/it]\n"
     ]
    }
   ],
   "source": [
    "thresh = 0.03\n",
    "pregions_synTF = wp.chophat(reads_correct, np.zeros_like(positions_minP), positions_minP)\n",
    "synTF_prom_variants, _, synTF_prom_conf = wp.viscount(pregions_synTF, promoters_100k, thresh=thresh, verbose=True)\n",
    "synTF_prom_assignment = np.argmax(synTF_prom_variants, axis=1)\n",
    "synTF_prom_assignment[np.sum(synTF_prom_variants, axis=1) < thresh] = -1"
   ]
  },
  {
   "cell_type": "markdown",
   "metadata": {},
   "source": [
    "ORF parts"
   ]
  },
  {
   "cell_type": "code",
   "execution_count": 79,
   "metadata": {},
   "outputs": [
    {
     "name": "stderr",
     "output_type": "stream",
     "text": [
      "match sequences to reference: 100%|██████████| 11025/11025 [00:08<00:00, 1368.79it/s]\n",
      "match sequences to reference: 100%|██████████| 11025/11025 [00:07<00:00, 1409.59it/s]\n",
      "match sequences to reference: 100%|██████████| 11025/11025 [00:07<00:00, 1486.98it/s]\n",
      "match sequences to reference: 100%|██████████| 11025/11025 [00:06<00:00, 1610.98it/s]\n",
      "match sequences to reference: 100%|██████████| 11025/11025 [00:06<00:00, 1577.19it/s]\n"
     ]
    }
   ],
   "source": [
    "AD_count, AD_match = [], []\n",
    "for AD_part in AD_parts:\n",
    "    count, _, match = wp.tilepin_v2(pregions_synTF, AD_part, thresh=1, verbose=True)\n",
    "    AD_count.append(count)\n",
    "    AD_match.append(match)\n",
    "AD_count, AD_match = np.array(AD_count), np.array(AD_match)\n",
    "\n",
    "# Match mRuby index to AD indices\n",
    "mRuby_count, _, mRuby_match = wp.tilepin_v2(pregions_synTF, mRuby[:50], thresh=1, verbose=True)\n"
   ]
  },
  {
   "cell_type": "code",
   "execution_count": 80,
   "metadata": {},
   "outputs": [],
   "source": [
    "# activation domain confusion matrix\n",
    "AD_conf = np.zeros((len(AD_parts), len(AD_parts)))\n",
    "\n",
    "for i in range(len(AD_parts)):\n",
    "    for j in range(len(AD_parts)):\n",
    "        AD_conf[i, j] = np.sum((AD_count[i, :] > 30) & (AD_count[j, :] > 30))\n",
    "\n",
    "# sequence-specific adjustments\n",
    "AD_conf[3, 3] = np.sum((AD_count[3, :] > 10) & (AD_count[2, :] < 100))\n",
    "AD_conf[2, 2] = np.sum(AD_count[2, :] > 100)\n",
    "AD_conf[2, 3] = np.sum((AD_count[3, :] < 10) & (AD_count[2, :] > 100))\n",
    "AD_conf[3, 2] = AD_conf[2, 3]"
   ]
  },
  {
   "cell_type": "code",
   "execution_count": 81,
   "metadata": {},
   "outputs": [
    {
     "data": {
      "image/png": "[encoded data removed]",
      "text/plain": [
       "<Figure size 400x400 with 2 Axes>"
      ]
     },
     "metadata": {},
     "output_type": "display_data"
    }
   ],
   "source": [
    "plt.figure(figsize=(4, 4))\n",
    "plt.imshow(AD_conf)\n",
    "plt.colorbar()\n",
    "plt.show()"
   ]
  },
  {
   "cell_type": "markdown",
   "metadata": {},
   "source": [
    "Assigning AD variants"
   ]
  },
  {
   "cell_type": "code",
   "execution_count": 82,
   "metadata": {},
   "outputs": [],
   "source": [
    "AD_count[AD_count < 30] = 0\n",
    "AD_assignment = np.argmax(AD_count, axis=0)\n",
    "AD_assignment[np.sum(AD_count, axis=0) == 0] = -1\n"
   ]
  },
  {
   "cell_type": "markdown",
   "metadata": {},
   "source": [
    "Identifying end position of AD for each read"
   ]
  },
  {
   "cell_type": "code",
   "execution_count": 86,
   "metadata": {},
   "outputs": [
    {
     "data": {
      "text/plain": [
       "(4, 11025, 12240)"
      ]
     },
     "execution_count": 86,
     "metadata": {},
     "output_type": "execute_result"
    }
   ],
   "source": [
    "AD_match.shape"
   ]
  },
  {
   "cell_type": "code",
   "execution_count": null,
   "metadata": {},
   "outputs": [],
   "source": [
    "#! WIP\n",
    "AD_position = np.zeros(len(AD_count))\n",
    "\n",
    "for i in range(len(AD_assignment)):\n",
    "    if AD_assignment[i] > 0:\n",
    "        b = AD_match[AD_assignment[i]]\n",
    "\n",
    "    "
   ]
  },
  {
   "cell_type": "code",
   "execution_count": 93,
   "metadata": {},
   "outputs": [
    {
     "data": {
      "text/plain": [
       "(11025, 12240)"
      ]
     },
     "execution_count": 93,
     "metadata": {},
     "output_type": "execute_result"
    }
   ],
   "source": [
    "b.shape"
   ]
  },
  {
   "cell_type": "markdown",
   "metadata": {},
   "source": [
    "-------------------------\n",
    "\n",
    "**Performance comparision** (benchmark machine: Apple M1 Macbook Air):\n",
    "- MatLab version of `tilepin()`\n",
    "  - 15 s for the last 100 bp of GFP reference sequence\n",
    "  - 2 min for whole GFP reference sequence\n",
    "- `wp.tilepin()`\n",
    "  - 15 s for the last 100 bp of GFP reference sequence\n",
    "  - 6 min for whole GFP reference sequence\n",
    "- `wp.tilepin_v2()`\n",
    "  - 15 s for the last 100 bp of GFP reference sequence\n",
    "  - 18 s for whole GFP reference sequence\n"
   ]
  },
  {
   "cell_type": "code",
   "execution_count": null,
   "metadata": {},
   "outputs": [],
   "source": [
    "_, positionsGFP1, _ = wp.tilepin(reads_correct, GFP, thresh=0.03, verbose=True)\n",
    "_, positionsGFP2, _ = wp.tilepin_v2(reads_correct, GFP, thresh=0.03, verbose=True)\n",
    "plt.figure()\n",
    "plt.hist(positionsGFP1 - positionsGFP2, bins=np.arange(-50, 50), cumulative=True)\n",
    "plt.show()\n"
   ]
  },
  {
   "cell_type": "code",
   "execution_count": null,
   "metadata": {},
   "outputs": [],
   "source": []
  }
 ],
 "metadata": {
  "kernelspec": {
   "display_name": "data-analysis",
   "language": "python",
   "name": "python3"
  },
  "language_info": {
   "codemirror_mode": {
    "name": "ipython",
    "version": 3
   },
   "file_extension": ".py",
   "mimetype": "text/x-python",
   "name": "python",
   "nbconvert_exporter": "python",
   "pygments_lexer": "ipython3",
   "version": "3.11.9"
  }
 },
 "nbformat": 4,
 "nbformat_minor": 2
}
