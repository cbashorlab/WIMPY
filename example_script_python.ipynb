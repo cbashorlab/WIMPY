{
 "cells": [
  {
   "cell_type": "markdown",
   "metadata": {},
   "source": [
    "## Analysing A subset of data from Experiment 68 (166K-member Level 3 library)\n",
    "\n",
    "- Python version\n"
   ]
  },
  {
   "cell_type": "code",
   "execution_count": 29,
   "metadata": {},
   "outputs": [
    {
     "name": "stdout",
     "output_type": "stream",
     "text": [
      "The autoreload extension is already loaded. To reload it, use:\n",
      "  %reload_ext autoreload\n"
     ]
    }
   ],
   "source": [
    "from Bio import SeqIO\n",
    "import pandas as pd\n",
    "import numpy as np\n",
    "import matplotlib.pyplot as plt\n",
    "import wimpy as wp\n",
    "\n",
    "%load_ext autoreload\n",
    "%autoreload 2\n"
   ]
  },
  {
   "cell_type": "markdown",
   "metadata": {},
   "source": [
    "### Loading input data\n",
    "\n",
    "Reference sequences"
   ]
  },
  {
   "cell_type": "code",
   "execution_count": 2,
   "metadata": {},
   "outputs": [],
   "source": [
    "# reference sequences from input fasta file\n",
    "with open(r\"./info/ref_sequences.fasta\") as ref_fasta_file:\n",
    "    ref_seqs = {\n",
    "        record.id: str(record.seq) for record in SeqIO.parse(ref_fasta_file, \"fasta\")\n",
    "    }\n",
    "    \n",
    "Puro = ref_seqs['Puro']\n",
    "GFP = ref_seqs['GFP'][-100:]\n",
    "A4 = ref_seqs['A4'][-50:]\n",
    "minP = ref_seqs['minP']\n",
    "mRuby = ref_seqs['mRuby'][200:300]\n",
    "BFP = ref_seqs['BFP'][200:300]\n",
    "ZF_parts = [ref_seqs['WT'], ref_seqs['C1_WT'], ref_seqs['C1_6x']]\n",
    "\n",
    "# reference sequences from excel files\n",
    "minP_100k = pd.read_excel(r'./info/100k_Minimal-Promoters.xlsx')['Sequence'].to_list()\n",
    "terminators_100k = pd.read_excel(r'./info/100k_terminators.xlsx')['Sequence'].to_list()\n",
    "promoters_100k = pd.read_excel(r'./info/100k-Promoters.xlsx')['Sequence'].to_list()\n",
    "ORF_parts = pd.read_excel(r'./info/100k_ORF-Parts_SynTF.xlsx')['SEQUENCE'].to_list()\n",
    "AD_parts, IDR_parts = ORF_parts[0:4], ORF_parts[4:8]\n"
   ]
  },
  {
   "cell_type": "markdown",
   "metadata": {},
   "source": [
    "Loading input Nanopore sequencing files, initial aliment with `bowtile`, and filter based on read length"
   ]
  },
  {
   "cell_type": "code",
   "execution_count": 3,
   "metadata": {},
   "outputs": [
    {
     "name": "stderr",
     "output_type": "stream",
     "text": [
      "reading fastq files: 100%|██████████| 5/5 [00:08<00:00,  1.74s/it]\n"
     ]
    }
   ],
   "source": [
    "# load in data\n",
    "_, l, seqs = wp.fastqall('./fastq/')\n",
    "l, seqs = np.array(l), np.array(seqs)\n",
    "\n",
    "# filter based on read length\n",
    "seqs = seqs[(l > 9500) & (l < 15000)]\n",
    "l = l[(l > 9500) & (l < 15000)]\n"
   ]
  },
  {
   "cell_type": "code",
   "execution_count": 4,
   "metadata": {},
   "outputs": [
    {
     "name": "stderr",
     "output_type": "stream",
     "text": [
      "bowtile progress: 100%|██████████| 11063/11063 [01:10<00:00, 157.29it/s]\n"
     ]
    }
   ],
   "source": [
    "# bowtile for alignment\n",
    "new_seq, _, _ = wp.bowtile(seqs, Puro, thresh=0.03)\n",
    "new_seq = np.array(new_seq)\n",
    "\n",
    "# filter out failed attempts\n",
    "reads_correct = new_seq[new_seq != '']\n",
    "l_reads_correct = l[new_seq != '']\n",
    "num_seqs = len(reads_correct)"
   ]
  },
  {
   "cell_type": "markdown",
   "metadata": {},
   "source": [
    "### Reporter Identification\n",
    "\n",
    "Locate A4, GFP, and Minimal Promoter region via TILING"
   ]
  },
  {
   "cell_type": "code",
   "execution_count": 5,
   "metadata": {},
   "outputs": [
    {
     "name": "stderr",
     "output_type": "stream",
     "text": [
      "match sequences to reference: 100%|██████████| 11025/11025 [00:14<00:00, 747.72it/s]\n",
      "match sequences to reference: 100%|██████████| 11025/11025 [00:14<00:00, 777.06it/s]\n",
      "match sequences to reference: 100%|██████████| 11025/11025 [00:14<00:00, 744.87it/s]\n",
      "match sequences to reference: 100%|██████████| 11025/11025 [00:15<00:00, 705.58it/s]\n",
      "match sequences to reference: 100%|██████████| 11025/11025 [00:15<00:00, 734.42it/s]\n"
     ]
    }
   ],
   "source": [
    "_, positions_GFP, _ = wp.tilepin_v2(reads_correct, GFP, thresh=0.03, verbose=True)\n",
    "_, positions_mRuby, _ = wp.tilepin_v2(reads_correct, mRuby, thresh=0.03, verbose=True)\n",
    "_, positions_A4, _ = wp.tilepin_v2(reads_correct, A4, thresh=0.03, verbose=True)\n",
    "_, positions_minP, _ = wp.tilepin_v2(reads_correct, minP, thresh=0.03, verbose=True)\n",
    "_, positions_BFP, _ = wp.tilepin_v2(reads_correct, BFP, thresh=0.03, verbose=True)"
   ]
  },
  {
   "cell_type": "markdown",
   "metadata": {},
   "source": [
    "Assessing reporter diversity"
   ]
  },
  {
   "cell_type": "code",
   "execution_count": 6,
   "metadata": {},
   "outputs": [],
   "source": [
    "# pregions and tregions using chophat\n",
    "p_regions = wp.chophat(reads_correct, positions_A4, end_positions=positions_GFP)\n",
    "t_regions = wp.chophat(reads_correct, positions_GFP, max_length=2000)\n"
   ]
  },
  {
   "cell_type": "markdown",
   "metadata": {},
   "source": [
    "Assign minimal promoters"
   ]
  },
  {
   "cell_type": "code",
   "execution_count": 7,
   "metadata": {},
   "outputs": [
    {
     "name": "stderr",
     "output_type": "stream",
     "text": [
      "matching to reference sequences: 100%|██████████| 3/3 [00:02<00:00,  1.03it/s]\n"
     ]
    }
   ],
   "source": [
    "thresh = 0.2\n",
    "minP_match_ratios, _ = wp.viscount(p_regions, minP_100k, thresh, tile_len=6, verbose=True, return_confusion_matrix=False)\n",
    "minP_variants = np.argmax(minP_match_ratios, axis=1)\n",
    "minP_variants[np.sum(minP_match_ratios, axis=1) < thresh] = -1"
   ]
  },
  {
   "cell_type": "markdown",
   "metadata": {},
   "source": [
    "Assign number of binding sites based on the length of sequence"
   ]
  },
  {
   "cell_type": "code",
   "execution_count": 8,
   "metadata": {},
   "outputs": [],
   "source": [
    "bs_variants = np.zeros(num_seqs) - 1\n",
    "dist = positions_minP - positions_A4\n",
    "bs_variants[(dist > 0) & (dist < 160)] = 0 # 2 binding sites\n",
    "bs_variants[(dist > 160) & (dist < 255)] = 1 # 4 binding sites\n",
    "bs_variants[(dist > 255) & (dist < 415)] = 2 # 8 binding sites\n",
    "bs_variants[(dist > 415) & (dist < 555)] = 3 # 12 binding sites\n"
   ]
  },
  {
   "cell_type": "markdown",
   "metadata": {},
   "source": [
    "Assign terminators"
   ]
  },
  {
   "cell_type": "code",
   "execution_count": 9,
   "metadata": {},
   "outputs": [
    {
     "name": "stderr",
     "output_type": "stream",
     "text": [
      "matching to reference sequences: 100%|██████████| 12/12 [03:36<00:00, 18.01s/it]\n"
     ]
    }
   ],
   "source": [
    "_, term_variants_counts = wp.viscount(t_regions, terminators_100k, 0.2, return_confusion_matrix=False, verbose=True)\n",
    "\n",
    "# custom scaling of terminators\n",
    "term_variants_counts[:, 1] -= term_variants_counts[:, 0] * 1.5\n",
    "term_variants_counts[:, 2] -= term_variants_counts[:, 1]\n",
    "term_variants_counts[term_variants_counts < 10] = 0\n",
    "\n",
    "term_variants = np.argmax(term_variants_counts, axis=1)\n",
    "term_variants[np.sum(term_variants_counts, axis=1) < 1] = -1\n"
   ]
  },
  {
   "cell_type": "markdown",
   "metadata": {},
   "source": [
    "Combine assignment for the reporter"
   ]
  },
  {
   "cell_type": "code",
   "execution_count": 10,
   "metadata": {},
   "outputs": [],
   "source": [
    "reporter_variants = np.stack([bs_variants, minP_variants, term_variants]).T"
   ]
  },
  {
   "cell_type": "markdown",
   "metadata": {},
   "source": [
    "### SynTF Identification\n",
    "\n",
    "Promoters"
   ]
  },
  {
   "cell_type": "code",
   "execution_count": 11,
   "metadata": {},
   "outputs": [
    {
     "name": "stderr",
     "output_type": "stream",
     "text": [
      "matching to reference sequences: 100%|██████████| 4/4 [05:11<00:00, 77.91s/it]\n"
     ]
    }
   ],
   "source": [
    "thresh = 0.03\n",
    "pregions_synTF = wp.chophat(reads_correct, np.zeros_like(positions_minP), positions_minP)\n",
    "synTF_prom_match_ratios, _, synTF_prom_conf = wp.viscount(pregions_synTF, promoters_100k, thresh=thresh, verbose=True)\n",
    "synTF_prom_variants = np.argmax(synTF_prom_match_ratios, axis=1)\n",
    "synTF_prom_variants[np.sum(synTF_prom_match_ratios, axis=1) < thresh] = -1"
   ]
  },
  {
   "cell_type": "markdown",
   "metadata": {},
   "source": [
    "ORF parts"
   ]
  },
  {
   "cell_type": "code",
   "execution_count": 12,
   "metadata": {},
   "outputs": [
    {
     "name": "stderr",
     "output_type": "stream",
     "text": [
      "match sequences to reference: 100%|██████████| 11025/11025 [00:07<00:00, 1441.22it/s]\n",
      "match sequences to reference: 100%|██████████| 11025/11025 [00:07<00:00, 1497.40it/s]\n",
      "match sequences to reference: 100%|██████████| 11025/11025 [00:07<00:00, 1561.58it/s]\n",
      "match sequences to reference: 100%|██████████| 11025/11025 [00:06<00:00, 1587.91it/s]\n",
      "match sequences to reference: 100%|██████████| 11025/11025 [00:06<00:00, 1578.95it/s]\n"
     ]
    }
   ],
   "source": [
    "AD_count, AD_match = [], []\n",
    "for AD_part in AD_parts:\n",
    "    count, _, match = wp.tilepin_v2(pregions_synTF, AD_part, thresh=1, verbose=True)\n",
    "    AD_count.append(count)\n",
    "    AD_match.append(match)\n",
    "AD_count, AD_match = np.array(AD_count), np.array(AD_match)\n",
    "\n",
    "# Match mRuby index to AD indices\n",
    "mRuby_count, _, mRuby_match = wp.tilepin_v2(pregions_synTF, mRuby[:50], thresh=1, verbose=True)\n"
   ]
  },
  {
   "cell_type": "code",
   "execution_count": 13,
   "metadata": {},
   "outputs": [],
   "source": [
    "# activation domain confusion matrix\n",
    "AD_conf = np.zeros((len(AD_parts), len(AD_parts)))\n",
    "\n",
    "for i in range(len(AD_parts)):\n",
    "    for j in range(len(AD_parts)):\n",
    "        AD_conf[i, j] = np.sum((AD_count[i, :] > 30) & (AD_count[j, :] > 30))\n",
    "\n",
    "# sequence-specific adjustments\n",
    "AD_conf[3, 3] = np.sum((AD_count[3, :] > 10) & (AD_count[2, :] < 100))\n",
    "AD_conf[2, 2] = np.sum(AD_count[2, :] > 100)\n",
    "AD_conf[2, 3] = np.sum((AD_count[3, :] < 10) & (AD_count[2, :] > 100))\n",
    "AD_conf[3, 2] = AD_conf[2, 3]"
   ]
  },
  {
   "cell_type": "code",
   "execution_count": 14,
   "metadata": {},
   "outputs": [
    {
     "data": {
      "image/png": "[encoded data removed]",
      "text/plain": [
       "<Figure size 400x400 with 2 Axes>"
      ]
     },
     "metadata": {},
     "output_type": "display_data"
    }
   ],
   "source": [
    "plt.figure(figsize=(4, 4))\n",
    "plt.imshow(AD_conf)\n",
    "plt.colorbar()\n",
    "plt.show()"
   ]
  },
  {
   "cell_type": "markdown",
   "metadata": {},
   "source": [
    "Assigning AD variants"
   ]
  },
  {
   "cell_type": "code",
   "execution_count": 15,
   "metadata": {},
   "outputs": [],
   "source": [
    "AD_count[AD_count < 30] = 0\n",
    "AD_variants = np.argmax(AD_count, axis=0)\n",
    "AD_variants[np.sum(AD_count, axis=0) == 0] = -1\n"
   ]
  },
  {
   "cell_type": "markdown",
   "metadata": {},
   "source": [
    "Identifying end position of AD for each read"
   ]
  },
  {
   "cell_type": "code",
   "execution_count": 16,
   "metadata": {},
   "outputs": [
    {
     "data": {
      "image/png": "[encoded data removed]",
      "text/plain": [
       "<Figure size 400x400 with 1 Axes>"
      ]
     },
     "metadata": {},
     "output_type": "display_data"
    }
   ],
   "source": [
    "# Initialize array to store activation domain positions\n",
    "AD_position = np.zeros(num_seqs)\n",
    "\n",
    "for i in range(num_seqs):\n",
    "    if AD_variants[i] >= 0:\n",
    "        # Extract matched positions for the assigned activation domain variant\n",
    "        matches = AD_match[AD_variants[i]][i, :]\n",
    "        pos_matches = np.arange(len(matches))[matches == 1]\n",
    "        # Check if there are sufficient matches to compute the mean\n",
    "        if len(pos_matches) > 10:\n",
    "            AD_position[i] = np.floor(np.mean(pos_matches[-10:]))\n",
    "\n",
    "# visualize AD positions\n",
    "plt.figure(figsize=(4, 4))\n",
    "plt.hist(AD_position, bins=100)\n",
    "plt.show()"
   ]
  },
  {
   "cell_type": "code",
   "execution_count": 17,
   "metadata": {},
   "outputs": [
    {
     "data": {
      "image/png": "[encoded data removed]",
      "text/plain": [
       "<Figure size 400x400 with 1 Axes>"
      ]
     },
     "metadata": {},
     "output_type": "display_data"
    }
   ],
   "source": [
    "mRuby_position = np.zeros(num_seqs)\n",
    "for i in range(num_seqs):\n",
    "    x = mRuby_match\n",
    "    \n",
    "for i in range(num_seqs):\n",
    "    # Extract matched positions for the assigned activation domain variant\n",
    "    matches = mRuby_match[i, :]\n",
    "    pos_matches = np.arange(len(matches))[matches == 1]\n",
    "    # Check if there are sufficient matches to compute the mean\n",
    "    if len(pos_matches) > 4:\n",
    "        mRuby_position[i] = np.floor(np.mean(pos_matches))\n",
    "        \n",
    "# visualize mRuby positions\n",
    "plt.figure(figsize=(4, 4))\n",
    "plt.hist(mRuby_position, bins=100)\n",
    "plt.show()"
   ]
  },
  {
   "cell_type": "markdown",
   "metadata": {},
   "source": [
    "### Identify IDRs in synTF_pregion using tiling\n"
   ]
  },
  {
   "cell_type": "code",
   "execution_count": 18,
   "metadata": {},
   "outputs": [
    {
     "name": "stderr",
     "output_type": "stream",
     "text": [
      "matching to reference sequences: 100%|██████████| 4/4 [05:02<00:00, 75.74s/it]\n"
     ]
    }
   ],
   "source": [
    "IDR_len = mRuby_position - AD_position\n",
    "IDR_tiles, _, IDR_conf = wp.viscount(\n",
    "    pregions_synTF, \n",
    "    IDR_parts, \n",
    "    tile_len=10, \n",
    "    thresh=0.03, \n",
    "    return_confusion_matrix=True, \n",
    "    verbose=True\n",
    ")\n",
    "\n",
    "IDR_variants = np.argmax(IDR_tiles, axis=1)\n",
    "IDR_variants[(IDR_len < 500) & (IDR_len > 150)] = 1\n",
    "\n",
    "# visualize confusion matrix\n",
    "# plt.figure(figsize=(4, 4))\n",
    "# plt.imshow(IDR_conf)\n",
    "# plt.show()"
   ]
  },
  {
   "cell_type": "code",
   "execution_count": 19,
   "metadata": {},
   "outputs": [
    {
     "name": "stderr",
     "output_type": "stream",
     "text": [
      "matching to reference sequences: 100%|██████████| 3/3 [00:16<00:00,  5.66s/it]\n"
     ]
    },
    {
     "data": {
      "image/png": "[encoded data removed]",
      "text/plain": [
       "<Figure size 400x400 with 1 Axes>"
      ]
     },
     "metadata": {},
     "output_type": "display_data"
    }
   ],
   "source": [
    "# Analyze Zinc Fingers\n",
    "tregions_synTF = wp.chophat(reads_correct, positions_mRuby, end_positions=positions_A4)\n",
    "ZF_tiles, _, ZF_conf = wp.viscount(tregions_synTF, ref_seqs=ZF_parts, thresh=0.03, tile_len=10, verbose=True)\n",
    "\n",
    "ZF_variants = np.argmax(ZF_tiles, axis=1)\n",
    "ZF_variants[np.sum(ZF_tiles, axis=1) == 0] = -1\n",
    "\n",
    "# visualize confusion matrix\n",
    "plt.figure(figsize=(4, 4))\n",
    "plt.imshow(ZF_conf)\n",
    "plt.show()"
   ]
  },
  {
   "cell_type": "code",
   "execution_count": 7,
   "metadata": {},
   "outputs": [
    {
     "data": {
      "text/plain": [
       "['TCAGAATCAGGGCATCTCAAACGACATCTCCGC',\n",
       " 'CCAGGAGAACGACCATTTCATCTGTATGCGTAATTTCTCTATTTGCATGAGGAACTTTTCATTTGCATGAGGAATTTTAGATCTGTATGAGAAATTTCTCATATGTATGCGCAACTTTTC',\n",
       " 'CCAGGAGAAGCCCCATTTCATCTGTATGGCCAATTTCTCTATTTGCATGGCCAACTTTTCATTTGCATGGCCAATTTTAGATCTGTATGGCTAATTTCTCATATGTATGGCCAACTTTTC']"
      ]
     },
     "execution_count": 7,
     "metadata": {},
     "output_type": "execute_result"
    }
   ],
   "source": [
    "IDR_parts\n"
   ]
  },
  {
   "cell_type": "code",
   "execution_count": 20,
   "metadata": {},
   "outputs": [
    {
     "name": "stderr",
     "output_type": "stream",
     "text": [
      "matching to reference sequences: 100%|██████████| 12/12 [05:52<00:00, 29.34s/it]\n"
     ]
    }
   ],
   "source": [
    "# Analyze terminators using viscount\n",
    "_, term_synTF_match_counts, _ = wp.viscount(\n",
    "    tregions_synTF, \n",
    "    ref_seqs=terminators_100k, \n",
    "    thresh=0.03, \n",
    "    tile_len=10, \n",
    "    return_confusion_matrix=True, \n",
    "    verbose=True\n",
    ")\n",
    "\n",
    "# Initialize the scaled terminator variants\n",
    "term_synTF_match_counts_scaled = np.ones_like(term_synTF_match_counts)\n",
    "threshold = 10\n",
    "key_indices = [0, 3, 6, 9] \n",
    "\n",
    "# Process terminator variants\n",
    "for i in range(num_seqs):  # Loop through rows (each variant)\n",
    "    for k in key_indices:\n",
    "        m = term_synTF_match_counts[i, k]\n",
    "        n = term_synTF_match_counts[i, k + 1] - 175\n",
    "        o = term_synTF_match_counts[i, k + 2] - 350\n",
    "\n",
    "        if m < threshold:\n",
    "            m = 0\n",
    "            n = 0\n",
    "            o = 0\n",
    "\n",
    "        term_synTF_match_counts_scaled[i, k] = m\n",
    "        term_synTF_match_counts_scaled[i, k + 1] = n\n",
    "        term_synTF_match_counts_scaled[i, k + 2] = o\n",
    "\n",
    "# Determine indices of maximum scaled terminator variants\n",
    "term_synTF_variants = np.argmax(term_synTF_match_counts_scaled, axis=1) + 1\n",
    "\n",
    "# Adjust indices based on summed thresholds\n",
    "x = np.sum(term_synTF_match_counts[:, key_indices], axis=1)\n",
    "term_synTF_match_counts[x < 20] = 0\n",
    "\n",
    "# Calculate assignments for synTF variants\n",
    "synTF_variants = np.stack([\n",
    "    synTF_prom_variants,\n",
    "    AD_variants,\n",
    "    IDR_variants,\n",
    "    ZF_variants,\n",
    "    term_synTF_variants\n",
    "]).T\n"
   ]
  },
  {
   "cell_type": "code",
   "execution_count": 2,
   "metadata": {},
   "outputs": [
    {
     "data": {
      "text/plain": [
       "array([200021., 410775., 181068., ..., 192588., 182749., 174669.])"
      ]
     },
     "execution_count": 2,
     "metadata": {},
     "output_type": "execute_result"
    }
   ],
   "source": [
    "all_100k_variants = np.concatenate([synTF_variants, reporter_variants], axis=1)\n",
    "library_100k = all_100k_variants @ np.array([1, 4, 16, 80, 240, 2880, 11520, 34560]).T\n",
    "library_100k"
   ]
  },
  {
   "cell_type": "code",
   "execution_count": 6,
   "metadata": {},
   "outputs": [
    {
     "data": {
      "text/plain": [
       "(array([-1., -1.,  0., -1.,  1., -1., -1., -1.]),\n",
       " array([ 3.,  3.,  3.,  2., 12.,  3.,  2., 11.]))"
      ]
     },
     "execution_count": 6,
     "metadata": {},
     "output_type": "execute_result"
    }
   ],
   "source": [
    "np.min(all_100k_variants, axis=0), np.max(all_100k_variants, axis=0)\n"
   ]
  },
  {
   "cell_type": "code",
   "execution_count": null,
   "metadata": {},
   "outputs": [],
   "source": []
  },
  {
   "cell_type": "markdown",
   "metadata": {},
   "source": [
    "-------------------------\n",
    "\n",
    "**Performance comparision** (benchmark machine: Apple M1 Macbook Air):\n",
    "- MatLab version of `tilepin()`\n",
    "  - 15 s for the last 100 bp of GFP reference sequence\n",
    "  - 2 min for whole GFP reference sequence\n",
    "- `wp.tilepin()`\n",
    "  - 15 s for the last 100 bp of GFP reference sequence\n",
    "  - 6 min for whole GFP reference sequence\n",
    "- `wp.tilepin_v2()`\n",
    "  - 15 s for the last 100 bp of GFP reference sequence\n",
    "  - 18 s for whole GFP reference sequence\n"
   ]
  },
  {
   "cell_type": "code",
   "execution_count": null,
   "metadata": {},
   "outputs": [],
   "source": [
    "_, positionsGFP1, _ = wp.tilepin(reads_correct, GFP, thresh=0.03, verbose=True)\n",
    "_, positionsGFP2, _ = wp.tilepin_v2(reads_correct, GFP, thresh=0.03, verbose=True)\n",
    "plt.figure()\n",
    "plt.hist(positionsGFP1 - positionsGFP2, bins=np.arange(-50, 50), cumulative=True)\n",
    "plt.show()\n"
   ]
  },
  {
   "cell_type": "code",
   "execution_count": null,
   "metadata": {},
   "outputs": [],
   "source": []
  }
 ],
 "metadata": {
  "kernelspec": {
   "display_name": "data-analysis",
   "language": "python",
   "name": "python3"
  },
  "language_info": {
   "codemirror_mode": {
    "name": "ipython",
    "version": 3
   },
   "file_extension": ".py",
   "mimetype": "text/x-python",
   "name": "python",
   "nbconvert_exporter": "python",
   "pygments_lexer": "ipython3",
   "version": "3.11.9"
  }
 },
 "nbformat": 4,
 "nbformat_minor": 2
}
