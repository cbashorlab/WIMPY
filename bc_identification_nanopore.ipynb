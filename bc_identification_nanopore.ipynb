{
 "cells": [
  {
   "cell_type": "markdown",
   "metadata": {},
   "source": [
    "# Identification of barcodes from Nanopore data"
   ]
  },
  {
   "cell_type": "code",
   "execution_count": 2,
   "metadata": {},
   "outputs": [],
   "source": [
    "from Bio import Align\n",
    "from Bio.Seq import Seq\n",
    "from os import path\n",
    "from tqdm import tqdm\n",
    "from itertools import product\n",
    "import re\n",
    "import pandas as pd\n",
    "import numpy as np\n",
    "import matplotlib.pyplot as plt\n",
    "import wimpy as wp"
   ]
  },
  {
   "attachments": {},
   "cell_type": "markdown",
   "metadata": {},
   "source": [
    "### Import sequences"
   ]
  },
  {
   "cell_type": "code",
   "execution_count": null,
   "metadata": {},
   "outputs": [],
   "source": [
    "_, ls, seqs = wp.fastqall('./')\n",
    "puro = Seq('cgctccgcatcggcctaaggaaccggcgtggttcctggctacggtgggagtctcacctgaccatcaaggaaagggattgggaagtgctgtcgttcttcca')\n",
    "new_seq, right_seq, f = wp.bowtile(seqs, puro)\n",
    "seqs_reads_correct = [s for s, l in zip(new_seq, ls) if s and 6000 < l < 8000]\n"
   ]
  },
  {
   "attachments": {},
   "cell_type": "markdown",
   "metadata": {},
   "source": [
    "### Read reference promoter and terminator sequences"
   ]
  },
  {
   "cell_type": "code",
   "execution_count": null,
   "metadata": {},
   "outputs": [],
   "source": [
    "# promoters\n",
    "promoters_file = pd.read_excel('512-promoters.xlsx', index_col='Promoter')\n",
    "promoters = [Seq(s).upper() for s in promoters_file['Sequence']]\n",
    "num_promoters = len(promoters)\n",
    "\n",
    "# terminators\n",
    "terminators_file = pd.read_excel('512-terminators.xlsx', header=None)\n",
    "terminators = [Seq(s).upper() for s in terminators_file[1]]\n",
    "num_terminators = len(terminators)"
   ]
  },
  {
   "attachments": {},
   "cell_type": "markdown",
   "metadata": {},
   "source": [
    "### Define mRuby and BFP sequences"
   ]
  },
  {
   "cell_type": "code",
   "execution_count": 69,
   "metadata": {},
   "outputs": [],
   "source": [
    "# mRuby and BFP sequence\n",
    "m_ruby = Seq('GTGAGTAAAGGCGAAGAACTTATCAAGGAAAATATGCGGATGAAAGTGGTTATGGAGGGTAGCGTGAACGGACACCAGTTCAAATGCACGGGAGAGGGCGAGGGGCGACCCTACGAGGGAGTCCAAACAATGAGGATTAAGGTTATAGAAGGTGGTCCGCTGCCATTCGCATTCGATATTTTGGCCACGTCCTTCATGTACGGCTCCCGAACCTTTATCAAATACCCTGCGGATATCCCAGACTTTTTCAAGCAATCCTTTCCGGAAGGGTTCACGTGGGAGCGAGTCACGAGATATGAGGATGGAGGCGTAGTAACAGTAACCCAAGACACATCACTTGAGGACGGTGAGCTTGTCTACAATGTGAAGGTACGCGGCGTCAATTTCCCCTCAAATGGCCCGGTGATGCAAAAGAAAACTAAAGGATGGGAGCCCAACACCGAAATGATGTACCCGGCAGATGGGGGGCTTAGGGGCTATACGGACATCGCATTGAAGGTTGATGGCGGGGGCCATCTCCATTGTAACTTTGTAACTACATATCGGTCAAAAAAGACTGTGGGGAACATTAAAATGCCGGGAGTACACGCTGTTGATCATCGCCTGGAAAGGATAGAGGAAAGCGACAATGAAACGTATGTAGTACAGCGGGAGGTCGCCGTCGCCAAATATAGTAATCTGGGCGGTGGCATGGACGAGCTTTATAAA').upper()\n",
    "m_ruby = m_ruby[49:150]\n",
    "tiles_mrb = to_tiles(m_ruby)\n",
    "\n",
    "bfp = Seq('GTCAGTAAAGGGGAAgagcttataaaggaaaatatgcacatgaagctctacatggagggcactgtagataaccaccatttcaaatgtacctctgaaggggagggcaagccatacgaaggtactcaaaccatgcgaataaaagtagttgaaggcgggcctcttccctttgcattcgacattctcgcaacctcttttctgtacggcagtaagactttcataaaccacactcaaggcattccagacttcttcaagcaatcattccccgaaggattcacctgggagcgagttactacttatgaggacggaggagtccttactgcaacccaagacacctcactgcaagatgggtgcctgatttacaatgtaaagatcagaggggtgaatttcacaagcaatgggccagttatgcaaaaaaagacccttggatgggaggccttcaccgagacactgtacccagccgatggtggactggagggcaggaatgacatggccctcaagctcgtcggaggcagtcacttgattgccaacgccaaaaccacttaccgctctaagaaacctgctaaaaacctgaagatgcccggcgtctattatgtggactatcgacttgagagaattaaggaggcaaacaacgagacttatgtcgaacagcatgaagttgccgtggctaggtactgtgatttgcccagcaaattgggtcataaacttaac').upper()\n",
    "bfp = bfp[49:150]\n",
    "tiles_bfp = to_tiles(bfp)"
   ]
  },
  {
   "attachments": {},
   "cell_type": "markdown",
   "metadata": {},
   "source": [
    "### Align reads to mRuby and BFP"
   ]
  },
  {
   "cell_type": "code",
   "execution_count": null,
   "metadata": {},
   "outputs": [],
   "source": [
    "aligner = Align.PairwiseAligner()\n",
    "aligner.mode = 'local'\n",
    "aligner.substitution_matrix = Align.substitution_matrices.load(\"NUC.4.4\")\n",
    "aligner.open_gap_score = -8\n",
    "\n",
    "l_mrb = len(m_ruby)\n",
    "l_bfp = len(bfp)\n",
    "\n",
    "perc_align = []\n",
    "start_idx_mrb = []\n",
    "start_idx_bfp = []\n",
    "\n",
    "for seq in tqdm(seqs_reads_correct, desc='aligning to mRuby and BFP'):\n",
    "    alignment_mrb = aligner.align(seq, m_ruby)[0]\n",
    "    alignment_bfp = aligner.align(seq, bfp)[0]\n",
    "\n",
    "    perc_align.append((alignment_mrb.score / l_mrb, alignment_bfp.score / l_bfp))\n",
    "    start_idx_mrb.append(alignment_mrb.aligned[0][0][0])\n",
    "    start_idx_bfp.append(alignment_bfp.aligned[0][0][0])"
   ]
  },
  {
   "attachments": {},
   "cell_type": "markdown",
   "metadata": {},
   "source": [
    "### Fragment sequneces to regions"
   ]
  },
  {
   "cell_type": "code",
   "execution_count": 71,
   "metadata": {},
   "outputs": [],
   "source": [
    "seqs_regions = []\n",
    "\n",
    "for seq, i_mrb, i_bfp in zip(seqs_reads_correct, start_idx_mrb, start_idx_bfp):\n",
    "    seqs_regions.append({\n",
    "        'p': seq[0:i_mrb],\n",
    "        't': seq[i_mrb:i_bfp],\n",
    "        'k': seq[i_mrb - 150 if i_mrb > 150 else 0:i_mrb],\n",
    "        't_bfp': seq[i_bfp:i_bfp + 1200]\n",
    "    })\n"
   ]
  },
  {
   "attachments": {},
   "cell_type": "markdown",
   "metadata": {},
   "source": [
    "### Promoter and terminator assigments"
   ]
  },
  {
   "cell_type": "code",
   "execution_count": null,
   "metadata": {},
   "outputs": [],
   "source": [
    "tile_len = 12\n",
    "lens_p = np.array([len(p) for p in promoters])\n",
    "lens_t = np.array([len(t) for t in terminators])\n",
    "\n",
    "p_tiles_mrb = np.zeros((len(seqs_reads_correct), num_promoters))\n",
    "t_tiles_mrb = np.zeros((len(seqs_reads_correct), num_terminators))\n",
    "\n",
    "tiles_p = [to_tiles(p, tile_len=12) for p in promoters]\n",
    "tiles_t = [to_tiles(t, tile_len=12) for t in terminators]\n",
    "\n",
    "for i, seq_regions in tqdm(enumerate(seqs_regions), \n",
    "                           desc='tiling promoters and terminators',\n",
    "                           total=len(seqs_regions)):\n",
    "\n",
    "    for j, tiles in enumerate(tiles_p):\n",
    "        for tile in tiles:\n",
    "            if tile in seq_regions['p']: p_tiles_mrb[i, j] += 1\n",
    "            \n",
    "    for j, tiles in enumerate(tiles_t):\n",
    "        for tile in tiles:\n",
    "            if tile in seq_regions['t']: t_tiles_mrb[i, j] += 1\n",
    "\n",
    "p_tiles_mrb /= lens_p\n",
    "t_tiles_mrb /= lens_t"
   ]
  },
  {
   "cell_type": "code",
   "execution_count": 73,
   "metadata": {},
   "outputs": [],
   "source": [
    "threshold = 0.04\n",
    "\n",
    "# special cases for promoters and terminators that have overlapping regions\n",
    "diff_p = p_tiles_mrb[:, 0] - p_tiles_mrb[:, 1]\n",
    "p_tiles_mrb[:, 0] = diff_p\n",
    "p_tiles_mrb[:, 1] = -diff_p\n",
    "\n",
    "diff_t = t_tiles_mrb[:, 0] - t_tiles_mrb[:, 1]\n",
    "t_tiles_mrb[:, 0] = diff_t\n",
    "t_tiles_mrb[:, 1] = -diff_t\n",
    "\n",
    "p_conf_mrb = np.zeros((num_promoters, num_promoters))\n",
    "t_conf_mrb = np.zeros((num_terminators, num_terminators))\n",
    "\n",
    "for (i, j), _ in np.ndenumerate(p_conf_mrb):\n",
    "    p_conf_mrb[i, j] = sum((p_tiles_mrb[:, i] > threshold) & (p_tiles_mrb[:, j] > threshold))\n",
    "    \n",
    "for (i, j), _ in np.ndenumerate(t_conf_mrb):\n",
    "    t_conf_mrb[i, j] = sum((t_tiles_mrb[:, i] > threshold) & (t_tiles_mrb[:, j] > threshold))"
   ]
  },
  {
   "cell_type": "code",
   "execution_count": null,
   "metadata": {},
   "outputs": [],
   "source": [
    "plt.figure()\n",
    "fig, ax = plt.subplots()\n",
    "ax.matshow(p_conf_mrb)\n",
    "for (i, j), z in np.ndenumerate(p_conf_mrb):\n",
    "    ax.text(j, i, '{:0.0f}'.format(z), ha='center', va='center')\n",
    "plt.show()\n",
    "\n",
    "plt.figure()\n",
    "fig, ax = plt.subplots()\n",
    "ax.matshow(t_conf_mrb)\n",
    "for (i, j), z in np.ndenumerate(t_conf_mrb):\n",
    "    ax.text(j, i, '{:0.0f}'.format(z), ha='center', va='center')\n",
    "plt.show()"
   ]
  },
  {
   "cell_type": "code",
   "execution_count": 75,
   "metadata": {},
   "outputs": [],
   "source": [
    "promoter_assignment = p_tiles_mrb > 0.03\n",
    "terminator_assignment = t_tiles_mrb > 0.03"
   ]
  },
  {
   "cell_type": "code",
   "execution_count": 76,
   "metadata": {},
   "outputs": [],
   "source": [
    "assigned_t_bfp = []\n",
    "for ass, region in zip(terminator_assignment, seqs_regions):\n",
    "    if np.sum(ass) == 1: assigned_t_bfp.append((np.where(ass)[0][0], region['t_bfp']))"
   ]
  },
  {
   "attachments": {},
   "cell_type": "markdown",
   "metadata": {},
   "source": [
    "### Barcode finder - alignment"
   ]
  },
  {
   "cell_type": "code",
   "execution_count": 77,
   "metadata": {},
   "outputs": [],
   "source": [
    "bc1_construct = Seq('TTATTATTATTATTATTA')\n",
    "sub_matrix_bba = Align.substitution_matrices.Array(\n",
    "    data=np.array([[5, -5, -5, -5], [-5, 5, 5, 5],[-5, 5, 5, 5], [-5, 5, 5, 5]]),\n",
    "    alphabet='ATGC')\n",
    "\n",
    "aligner = Align.PairwiseAligner()\n",
    "aligner.mode = 'local'\n",
    "aligner.substitution_matrix = sub_matrix_bba\n",
    "aligner.open_gap_score = -8\n"
   ]
  },
  {
   "cell_type": "code",
   "execution_count": null,
   "metadata": {},
   "outputs": [],
   "source": [
    "bc_bba_align = []\n",
    "bc_10n_align = []\n",
    "\n",
    "for ass, seq in tqdm(assigned_t_bfp, desc='searching for BBA and 10N barcode using alignment'):\n",
    "    alignment = aligner.align(seq, bc1_construct)[0]\n",
    "    bc = alignment[0]\n",
    "    if alignment.score > 85:\n",
    "        if ass == 7: bc_bba_align.append(bc)\n",
    "        elif ass == 1: bc_10n_align.append(bc)\n",
    "\n",
    "len_bba_align = [len(bc) for bc in bc_bba_align]\n",
    "len_10n_align = [len(bc) for bc in bc_10n_align]\n",
    "\n",
    "plt.figure(dpi=150)\n",
    "plt.hist(len_bba_align, bins=20, label='bba')\n",
    "plt.hist(len_10n_align, bins=20, label='10n')\n",
    "plt.legend()\n",
    "plt.show()\n"
   ]
  },
  {
   "cell_type": "code",
   "execution_count": 83,
   "metadata": {},
   "outputs": [],
   "source": [
    "with open(f'nanopore_reads_{fidelity}_bba_align.csv', 'w') as file:\n",
    "    for bc in bc_bba_align: file.write(str(bc) + '\\n')\n",
    "\n",
    "with open(f'nanopore_reads_{fidelity}_10n_align.csv', 'w') as file:\n",
    "    for bc in bc_10n_align: file.write(str(bc) + '\\n')"
   ]
  },
  {
   "attachments": {},
   "cell_type": "markdown",
   "metadata": {},
   "source": [
    "### Barcode finder - upstream and downstream scar"
   ]
  },
  {
   "cell_type": "code",
   "execution_count": null,
   "metadata": {},
   "outputs": [],
   "source": [
    "bc_bba_scar = []\n",
    "bc_10n_scar = []\n",
    "\n",
    "for ass, seq in tqdm(assigned_t_bfp, desc='searching for BBA and 10N barcode using scar'):\n",
    "    upscar = [x.start() for x in re.finditer('AAACG', str(seq))]\n",
    "    upscar += [x.start() + 1 for x in re.finditer('GAAAC', str(seq))]\n",
    "    downscar = [x.start() - 1 for x in re.finditer('AGTTC', str(seq))]\n",
    "    downscar += [x.start() for x in re.finditer('CAGTT', str(seq))]\n",
    "    \n",
    "    # either upscar or downscar is not found\n",
    "    if not (upscar and downscar):\n",
    "        if ass == 7:   bc_bba_scar.append('')\n",
    "        elif ass == 1: bc_10n_scar.append('')\n",
    "        continue\n",
    "\n",
    "    bc = Seq('')\n",
    "    for i, j in product(upscar, downscar):\n",
    "        if 10 < j - i < 30: \n",
    "            bc = seq[i + 5 : j]\n",
    "            break\n",
    "\n",
    "    if ass == 7:   bc_bba_scar.append(bc)\n",
    "    elif ass == 1: bc_10n_scar.append(bc)\n",
    "    \n",
    "len_bba_scar = [len(bc) for bc in bc_bba_scar]\n",
    "len_10n_scar = [len(bc) for bc in bc_10n_scar]\n",
    "\n",
    "plt.figure(dpi=150)\n",
    "plt.hist(len_bba_scar, bins=20, label='bba')\n",
    "plt.hist(len_10n_scar, bins=20, label='10n')\n",
    "plt.legend()\n",
    "plt.show()"
   ]
  },
  {
   "cell_type": "code",
   "execution_count": 85,
   "metadata": {},
   "outputs": [],
   "source": [
    "with open(f'nanopore_reads_{fidelity}_bba_scar.csv', 'w') as file:\n",
    "    for bc in bc_bba_scar: file.write(str(bc) + '\\n')\n",
    "\n",
    "with open(f'nanopore_reads_{fidelity}_10n_scar.csv', 'w') as file:\n",
    "    for bc in bc_10n_scar: file.write(str(bc) + '\\n')\n"
   ]
  },
  {
   "cell_type": "code",
   "execution_count": null,
   "metadata": {},
   "outputs": [],
   "source": []
  }
 ],
 "metadata": {
  "kernelspec": {
   "display_name": "Python 3.10.0 64-bit",
   "language": "python",
   "name": "python3"
  },
  "language_info": {
   "codemirror_mode": {
    "name": "ipython",
    "version": 3
   },
   "file_extension": ".py",
   "mimetype": "text/x-python",
   "name": "python",
   "nbconvert_exporter": "python",
   "pygments_lexer": "ipython3",
   "version": "3.11.9"
  },
  "orig_nbformat": 4,
  "vscode": {
   "interpreter": {
    "hash": "aee8b7b246df8f9039afb4144a1f6fd8d2ca17a180786b69acc140d282b71a49"
   }
  }
 },
 "nbformat": 4,
 "nbformat_minor": 2
}
